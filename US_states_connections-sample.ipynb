{
 "cells": [
  {
   "cell_type": "markdown",
   "metadata": {},
   "source": [
    "# Instruction\n",
    "\n",
    "## Data Preparation\n",
    "\n",
    "Group the states in a manner that they are forming a circle, where the first one is the one at the center and then followed by the surrounding states.\n",
    "\n",
    "![Sample](./sample.png)\n",
    "\n",
    "Idaho (center) is surrounded by 'Washington', 'Oregon', 'Nevada', 'Wyoming', 'Montana'\n",
    "\n",
    "If it's closed-loop, you should mention the first state (after the center) as the last State also. Ex: AAA (center), BBB, CCC, DDD, BBB\n",
    "\n",
    "The connections can just be partial - just to complete the connectivity\n",
    "\n",
    "## Data encoding\n",
    "\n",
    "Fill up the remaining connections that says \"put more connections here\" below:\n"
   ]
  },
  {
   "cell_type": "code",
   "execution_count": 1,
   "metadata": {},
   "outputs": [],
   "source": [
    "states = [\"Alabama\",\"Alaska\",\"Arizona\",\"Arkansas\",\"California\",\"Colorado\",\"Connecticut\",\"Delaware\",\"Florida\",\"Georgia\",\"Hawaii\",\"Idaho\",\"Illinois\",\"Indiana\",\"Iowa\",\"Kansas\",\"Kentucky\",\"Louisiana\",\"Maine\",\"Maryland\",\"Massachusetts\",\"Michigan\",\"Minnesota\",\"Mississippi\",\"Missouri\",\"Montana\",\"Nebraska\",\"Nevada\",\"NewHampshire\",\"NewJersey\",\"NewMexico\",\"NewYork\",\"NorthCarolina\",\"NorthDakota\",\"Ohio\",\"Oklahoma\",\"Oregon\",\"Pennsylvania\",\"RhodeIsland\",\"SouthCarolina\",\"SouthDakota\",\"Tennessee\",\"Texas\",\"Utah\",\"Vermont\",\"Virginia\",\"Washington\",\"WestVirginia\",\"Wisconsin\",\"Wyoming\"]\n",
    "\n",
    "# This is just to allow you to press Tab to auto-complete the State when typing it\n",
    "\n",
    "Alabama=\"Alabama\"\n",
    "Alaska=\"Alaska\"\n",
    "Arizona=\"Arizona\"\n",
    "Arkansas=\"Arkansas\"\n",
    "California=\"California\"\n",
    "Colorado=\"Colorado\"\n",
    "Connecticut=\"Connecticut\"\n",
    "Delaware=\"Delaware\"\n",
    "Florida=\"Florida\"\n",
    "Georgia=\"Georgia\"\n",
    "Hawaii=\"Hawaii\"\n",
    "Idaho=\"Idaho\"\n",
    "Illinois=\"Illinois\"\n",
    "Indiana=\"Indiana\"\n",
    "Iowa=\"Iowa\"\n",
    "Kansas=\"Kansas\"\n",
    "Kentucky=\"Kentucky\"\n",
    "Louisiana=\"Louisiana\"\n",
    "Maine=\"Maine\"\n",
    "Maryland=\"Maryland\"\n",
    "Massachusetts=\"Massachusetts\"\n",
    "Michigan=\"Michigan\"\n",
    "Minnesota=\"Minnesota\"\n",
    "Mississippi=\"Mississippi\"\n",
    "Missouri=\"Missouri\"\n",
    "Montana=\"Montana\"\n",
    "Nebraska=\"Nebraska\"\n",
    "Nevada=\"Nevada\"\n",
    "NewHampshire=\"NewHampshire\"\n",
    "NewJersey=\"NewJersey\"\n",
    "NewMexico=\"NewMexico\"\n",
    "NewYork=\"NewYork\"\n",
    "NorthCarolina=\"NorthCarolina\"\n",
    "NorthDakota=\"NorthDakota\"\n",
    "Ohio=\"Ohio\"\n",
    "Oklahoma=\"Oklahoma\"\n",
    "Oregon=\"Oregon\"\n",
    "Pennsylvania=\"Pennsylvania\"\n",
    "RhodeIsland=\"RhodeIsland\"\n",
    "SouthCarolina=\"SouthCarolina\"\n",
    "SouthDakota=\"SouthDakota\"\n",
    "Tennessee=\"Tennessee\"\n",
    "Texas=\"Texas\"\n",
    "Utah=\"Utah\"\n",
    "Vermont=\"Vermont\"\n",
    "Virginia=\"Virginia\"\n",
    "Washington=\"Washington\"\n",
    "WestVirginia=\"WestVirginia\"\n",
    "Wisconsin=\"Wisconsin\"\n",
    "Wyoming=\"Wyoming\"\n"
   ]
  },
  {
   "cell_type": "code",
   "execution_count": 2,
   "metadata": {},
   "outputs": [],
   "source": [
    "def connect(state1, state2, connect_next=True):\n",
    "    if state1 not in connections:\n",
    "        connections[state1] = []\n",
    "        \n",
    "    # connect state1 to ever state2\n",
    "    for index in range(len(state2)):\n",
    "        _state2 = state2[index]\n",
    "        if _state2 not in connections[state1]:\n",
    "            connections[state1].append(_state2)\n",
    "\n",
    "            if connect_next:\n",
    "                connect(_state2, [state1], False)\n",
    "                \n",
    "                \n",
    "    # connect state2 back to back\n",
    "    for index in range(len(state2)-1):\n",
    "        connect(state2[index], [state2[index+1]])\n",
    "        \n",
    "        if index > 1:\n",
    "             connect(state2[index], [state2[index-1]])\n",
    "    "
   ]
  },
  {
   "cell_type": "code",
   "execution_count": 5,
   "metadata": {},
   "outputs": [
    {
     "data": {
      "text/plain": [
       "{'Idaho': ['Washington', 'Oregon', 'Nevada', 'Utah', 'Wyoming', 'Montana'],\n",
       " 'Washington': ['Idaho', 'Oregon'],\n",
       " 'Oregon': ['Idaho', 'Washington', 'Nevada'],\n",
       " 'Nevada': ['Idaho', 'Oregon', 'Utah'],\n",
       " 'Utah': ['Idaho', 'Nevada', 'Wyoming', 'Colorado'],\n",
       " 'Wyoming': ['Idaho',\n",
       "  'Utah',\n",
       "  'Montana',\n",
       "  'Colorado',\n",
       "  'Nebraska',\n",
       "  'SouthDakota'],\n",
       " 'Montana': ['Idaho', 'Wyoming'],\n",
       " 'Colorado': ['Wyoming', 'Utah', 'Nebraska'],\n",
       " 'Nebraska': ['Wyoming', 'Colorado', 'SouthDakota'],\n",
       " 'SouthDakota': ['Wyoming', 'Nebraska', 'Minnesota', 'NorthDakota', 'Iowa'],\n",
       " 'Minnesota': ['NorthDakota', 'SouthDakota', 'Iowa', 'Wisconsin'],\n",
       " 'NorthDakota': ['Minnesota', 'SouthDakota'],\n",
       " 'Iowa': ['Minnesota', 'SouthDakota', 'Wisconsin'],\n",
       " 'Wisconsin': ['Minnesota', 'Iowa']}"
      ]
     },
     "execution_count": 5,
     "metadata": {},
     "output_type": "execute_result"
    }
   ],
   "source": [
    "connections = {}\n",
    "\n",
    "connect(Idaho, [Washington, Oregon, Nevada, Utah, Wyoming, Montana])\n",
    "connect(Wyoming, [Montana, Idaho, Utah, Colorado, Nebraska, SouthDakota])\n",
    "connect(Minnesota, [NorthDakota, SouthDakota, Iowa, Wisconsin])\n",
    "## put more connections here\n",
    "\n",
    "connections"
   ]
  },
  {
   "cell_type": "code",
   "execution_count": 4,
   "metadata": {},
   "outputs": [
    {
     "name": "stdout",
     "output_type": "stream",
     "text": [
      "states([ Alabama, Alaska, Arizona, Arkansas, California, Colorado, Connecticut, Delaware, Florida, Georgia, Hawaii, Idaho, Illinois, Indiana, Iowa, Kansas, Kentucky, Louisiana, Maine, Maryland, Massachusetts, Michigan, Minnesota, Mississippi, Missouri, Montana, Nebraska, Nevada, NewHampshire, NewJersey, NewMexico, NewYork, NorthCarolina, NorthDakota, Ohio, Oklahoma, Oregon, Pennsylvania, RhodeIsland, SouthCarolina, SouthDakota, Tennessee, Texas, Utah, Vermont, Virginia, Washington, WestVirginia, Wisconsin, Wyoming ])\n",
      "\n",
      "\n",
      "adjacent( Idaho , [ Washington, Oregon, Nevada, Utah, Wyoming, Montana ]).\n",
      "adjacent( Washington , [ Idaho, Oregon ]).\n",
      "adjacent( Oregon , [ Idaho, Washington, Nevada ]).\n",
      "adjacent( Nevada , [ Idaho, Oregon, Utah ]).\n",
      "adjacent( Utah , [ Idaho, Nevada, Wyoming, Colorado ]).\n",
      "adjacent( Wyoming , [ Idaho, Utah, Montana, Colorado, Nebraska, SouthDakota ]).\n",
      "adjacent( Montana , [ Idaho, Wyoming ]).\n",
      "adjacent( Colorado , [ Wyoming, Utah, Nebraska ]).\n",
      "adjacent( Nebraska , [ Wyoming, Colorado, SouthDakota ]).\n",
      "adjacent( SouthDakota , [ Wyoming, Nebraska, Minnesota, NorthDakota, Iowa ]).\n",
      "adjacent( Minnesota , [ NorthDakota, SouthDakota, Iowa, Wisconsin ]).\n",
      "adjacent( NorthDakota , [ Minnesota, SouthDakota ]).\n",
      "adjacent( Iowa , [ Minnesota, SouthDakota, Wisconsin ]).\n",
      "adjacent( Wisconsin , [ Minnesota, Iowa ]).\n"
     ]
    }
   ],
   "source": [
    "def to_prolog_adjacent():\n",
    "    print(\"states([\", \", \".join(states), \"])\\n\\n\")\n",
    "    \n",
    "    for key in connections:\n",
    "        print(\"adjacent(\", key, \", [\", \", \".join(connections[key]), \"]).\")\n",
    "\n",
    "\n",
    "to_prolog_adjacent()"
   ]
  },
  {
   "cell_type": "code",
   "execution_count": null,
   "metadata": {},
   "outputs": [],
   "source": []
  }
 ],
 "metadata": {
  "kernelspec": {
   "display_name": "Python 3",
   "language": "python",
   "name": "python3"
  },
  "language_info": {
   "codemirror_mode": {
    "name": "ipython",
    "version": 3
   },
   "file_extension": ".py",
   "mimetype": "text/x-python",
   "name": "python",
   "nbconvert_exporter": "python",
   "pygments_lexer": "ipython3",
   "version": "3.7.6"
  }
 },
 "nbformat": 4,
 "nbformat_minor": 4
}
